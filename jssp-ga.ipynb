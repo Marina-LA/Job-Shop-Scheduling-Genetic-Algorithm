{
 "cells": [
  {
   "cell_type": "code",
   "execution_count": 102,
   "metadata": {},
   "outputs": [],
   "source": [
    "import pandas as pd\n",
    "import numpy as np\n",
    "import random"
   ]
  },
  {
   "cell_type": "code",
   "execution_count": 103,
   "metadata": {},
   "outputs": [],
   "source": [
    "def read_data(file):\n",
    "    data = pd.read_excel(file, header=None)\n",
    "    return data"
   ]
  },
  {
   "cell_type": "code",
   "execution_count": 104,
   "metadata": {},
   "outputs": [
    {
     "data": {
      "text/html": [
       "<div>\n",
       "<style scoped>\n",
       "    .dataframe tbody tr th:only-of-type {\n",
       "        vertical-align: middle;\n",
       "    }\n",
       "\n",
       "    .dataframe tbody tr th {\n",
       "        vertical-align: top;\n",
       "    }\n",
       "\n",
       "    .dataframe thead th {\n",
       "        text-align: right;\n",
       "    }\n",
       "</style>\n",
       "<table border=\"1\" class=\"dataframe\">\n",
       "  <thead>\n",
       "    <tr style=\"text-align: right;\">\n",
       "      <th></th>\n",
       "      <th>0</th>\n",
       "      <th>1</th>\n",
       "      <th>2</th>\n",
       "    </tr>\n",
       "  </thead>\n",
       "  <tbody>\n",
       "    <tr>\n",
       "      <th>0</th>\n",
       "      <td>3</td>\n",
       "      <td>2</td>\n",
       "      <td>2</td>\n",
       "    </tr>\n",
       "    <tr>\n",
       "      <th>1</th>\n",
       "      <td>2</td>\n",
       "      <td>4</td>\n",
       "      <td>1</td>\n",
       "    </tr>\n",
       "    <tr>\n",
       "      <th>2</th>\n",
       "      <td>0</td>\n",
       "      <td>4</td>\n",
       "      <td>3</td>\n",
       "    </tr>\n",
       "  </tbody>\n",
       "</table>\n",
       "</div>"
      ],
      "text/plain": [
       "   0  1  2\n",
       "0  3  2  2\n",
       "1  2  4  1\n",
       "2  0  4  3"
      ]
     },
     "execution_count": 104,
     "metadata": {},
     "output_type": "execute_result"
    }
   ],
   "source": [
    "data = read_data(\"JSSP-problems/basic-problem.xlsx\")\n",
    "data"
   ]
  },
  {
   "cell_type": "markdown",
   "metadata": {},
   "source": [
    "# CHROMOSOMA\n",
    "\n",
    "Representat com una llista de tuples, on gada gen es una tupla. La primera posició de la tupla indica el job i la segona posició indica la màquina. "
   ]
  },
  {
   "cell_type": "code",
   "execution_count": 105,
   "metadata": {},
   "outputs": [],
   "source": [
    "params = {\"population_size\": 10, \n",
    "          \"mutation_rate\": 0.1, \n",
    "          \"crossover_rate\": 0.8, \n",
    "          \"max_generations\": 100}"
   ]
  },
  {
   "cell_type": "code",
   "execution_count": 106,
   "metadata": {},
   "outputs": [],
   "source": [
    "def generate_inital_population(data, population_size):\n",
    "    jobs = data.shape[0]\n",
    "    machines = data.shape[1]\n",
    "    population = []\n",
    "    for _ in range(population_size):\n",
    "        chromosome = []\n",
    "        for job in range(jobs):\n",
    "            for machine in range(machines):\n",
    "                chromosome.append((job, machine))\n",
    "        random.shuffle(chromosome)\n",
    "        population.append(chromosome)\n",
    "    return population\n"
   ]
  },
  {
   "cell_type": "code",
   "execution_count": 107,
   "metadata": {},
   "outputs": [],
   "source": [
    "def fitness(chromosome, data):\n",
    "    pass"
   ]
  },
  {
   "cell_type": "code",
   "execution_count": 108,
   "metadata": {},
   "outputs": [],
   "source": [
    "def selection(population, fitness_values, tournament_size):\n",
    "    pass"
   ]
  },
  {
   "cell_type": "code",
   "execution_count": 109,
   "metadata": {},
   "outputs": [],
   "source": [
    "def crossover(parent1, parent2):\n",
    "    pass"
   ]
  },
  {
   "cell_type": "code",
   "execution_count": 110,
   "metadata": {},
   "outputs": [],
   "source": [
    "def mutation(chromosome, mutation_rate):\n",
    "    pass"
   ]
  },
  {
   "cell_type": "code",
   "execution_count": 113,
   "metadata": {},
   "outputs": [],
   "source": [
    "def gen_algorithm(data, params):\n",
    "    population_size = params[\"population_size\"]\n",
    "    mutation_rate = params[\"mutation_rate\"]\n",
    "    crossover_rate = params[\"crossover_rate\"]\n",
    "    max_generations = params[\"max_generations\"]\n",
    "\n",
    "    population = generate_inital_population(data, population_size)\n",
    "    return population"
   ]
  },
  {
   "cell_type": "code",
   "execution_count": 114,
   "metadata": {},
   "outputs": [
    {
     "data": {
      "text/plain": [
       "[[(2, 0), (2, 1), (1, 2), (0, 2), (0, 0), (2, 2), (1, 1), (1, 0), (0, 1)],\n",
       " [(1, 1), (2, 0), (0, 0), (1, 0), (0, 1), (2, 1), (2, 2), (1, 2), (0, 2)],\n",
       " [(1, 1), (1, 0), (1, 2), (2, 2), (2, 1), (0, 1), (2, 0), (0, 0), (0, 2)],\n",
       " [(2, 1), (0, 2), (2, 2), (1, 2), (0, 0), (2, 0), (0, 1), (1, 0), (1, 1)],\n",
       " [(1, 2), (0, 0), (0, 2), (2, 2), (2, 0), (1, 1), (1, 0), (2, 1), (0, 1)],\n",
       " [(2, 2), (1, 1), (0, 1), (1, 0), (0, 2), (2, 1), (0, 0), (1, 2), (2, 0)],\n",
       " [(2, 0), (1, 0), (1, 1), (2, 2), (1, 2), (0, 2), (0, 0), (0, 1), (2, 1)],\n",
       " [(1, 1), (0, 1), (0, 0), (1, 0), (2, 2), (2, 1), (1, 2), (0, 2), (2, 0)],\n",
       " [(0, 1), (2, 1), (1, 0), (0, 2), (2, 0), (2, 2), (0, 0), (1, 1), (1, 2)],\n",
       " [(2, 1), (0, 2), (2, 0), (1, 2), (0, 0), (2, 2), (1, 1), (0, 1), (1, 0)]]"
      ]
     },
     "execution_count": 114,
     "metadata": {},
     "output_type": "execute_result"
    }
   ],
   "source": [
    "gen_algorithm(data, params)"
   ]
  },
  {
   "cell_type": "code",
   "execution_count": null,
   "metadata": {},
   "outputs": [],
   "source": []
  }
 ],
 "metadata": {
  "kernelspec": {
   "display_name": "Python 3",
   "language": "python",
   "name": "python3"
  },
  "language_info": {
   "codemirror_mode": {
    "name": "ipython",
    "version": 3
   },
   "file_extension": ".py",
   "mimetype": "text/x-python",
   "name": "python",
   "nbconvert_exporter": "python",
   "pygments_lexer": "ipython3",
   "version": "3.12.6"
  }
 },
 "nbformat": 4,
 "nbformat_minor": 2
}
