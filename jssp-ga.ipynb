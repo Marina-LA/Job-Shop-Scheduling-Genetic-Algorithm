{
 "cells": [
  {
   "cell_type": "markdown",
   "metadata": {},
   "source": [
    "# JOB-SHOP PROBLEM WITH GENETIC ALGORITHM "
   ]
  },
  {
   "cell_type": "code",
   "execution_count": 1,
   "metadata": {},
   "outputs": [],
   "source": [
    "import pandas as pd\n",
    "import random\n",
    "import matplotlib.pyplot as plt\n",
    "import matplotlib.patches as mpatches"
   ]
  },
  {
   "cell_type": "markdown",
   "metadata": {},
   "source": [
    "## Read Dataset"
   ]
  },
  {
   "cell_type": "code",
   "execution_count": 2,
   "metadata": {},
   "outputs": [],
   "source": [
    "def read_data(file):\n",
    "    df = pd.read_excel(file, header=None)\n",
    "    matrix = []\n",
    "\n",
    "    # Iterate over rows to process job data\n",
    "    for job in df.itertuples(index=False):\n",
    "        # Convert the row into pairs of (machine, time)\n",
    "        row_data = list(job)\n",
    "        job_data = {}\n",
    "        for i in range(0, len(row_data), 2):\n",
    "            machine = int(row_data[i])\n",
    "            time = int(row_data[i+1])\n",
    "            job_data[machine] = time\n",
    "        matrix.append(job_data)\n",
    "\n",
    "    result_df = pd.DataFrame(matrix).fillna(0).astype(int)\n",
    "    return result_df"
   ]
  },
  {
   "cell_type": "code",
   "execution_count": 3,
   "metadata": {},
   "outputs": [
    {
     "data": {
      "text/html": [
       "<div>\n",
       "<style scoped>\n",
       "    .dataframe tbody tr th:only-of-type {\n",
       "        vertical-align: middle;\n",
       "    }\n",
       "\n",
       "    .dataframe tbody tr th {\n",
       "        vertical-align: top;\n",
       "    }\n",
       "\n",
       "    .dataframe thead th {\n",
       "        text-align: right;\n",
       "    }\n",
       "</style>\n",
       "<table border=\"1\" class=\"dataframe\">\n",
       "  <thead>\n",
       "    <tr style=\"text-align: right;\">\n",
       "      <th></th>\n",
       "      <th>1</th>\n",
       "      <th>0</th>\n",
       "      <th>4</th>\n",
       "      <th>3</th>\n",
       "      <th>2</th>\n",
       "    </tr>\n",
       "  </thead>\n",
       "  <tbody>\n",
       "    <tr>\n",
       "      <th>0</th>\n",
       "      <td>21</td>\n",
       "      <td>53</td>\n",
       "      <td>95</td>\n",
       "      <td>55</td>\n",
       "      <td>34</td>\n",
       "    </tr>\n",
       "    <tr>\n",
       "      <th>1</th>\n",
       "      <td>71</td>\n",
       "      <td>21</td>\n",
       "      <td>16</td>\n",
       "      <td>52</td>\n",
       "      <td>26</td>\n",
       "    </tr>\n",
       "    <tr>\n",
       "      <th>2</th>\n",
       "      <td>42</td>\n",
       "      <td>12</td>\n",
       "      <td>98</td>\n",
       "      <td>39</td>\n",
       "      <td>31</td>\n",
       "    </tr>\n",
       "    <tr>\n",
       "      <th>3</th>\n",
       "      <td>77</td>\n",
       "      <td>55</td>\n",
       "      <td>79</td>\n",
       "      <td>77</td>\n",
       "      <td>66</td>\n",
       "    </tr>\n",
       "    <tr>\n",
       "      <th>4</th>\n",
       "      <td>19</td>\n",
       "      <td>83</td>\n",
       "      <td>37</td>\n",
       "      <td>34</td>\n",
       "      <td>64</td>\n",
       "    </tr>\n",
       "    <tr>\n",
       "      <th>5</th>\n",
       "      <td>54</td>\n",
       "      <td>92</td>\n",
       "      <td>79</td>\n",
       "      <td>62</td>\n",
       "      <td>43</td>\n",
       "    </tr>\n",
       "    <tr>\n",
       "      <th>6</th>\n",
       "      <td>87</td>\n",
       "      <td>93</td>\n",
       "      <td>77</td>\n",
       "      <td>69</td>\n",
       "      <td>87</td>\n",
       "    </tr>\n",
       "    <tr>\n",
       "      <th>7</th>\n",
       "      <td>41</td>\n",
       "      <td>60</td>\n",
       "      <td>83</td>\n",
       "      <td>24</td>\n",
       "      <td>38</td>\n",
       "    </tr>\n",
       "    <tr>\n",
       "      <th>8</th>\n",
       "      <td>49</td>\n",
       "      <td>44</td>\n",
       "      <td>25</td>\n",
       "      <td>17</td>\n",
       "      <td>98</td>\n",
       "    </tr>\n",
       "    <tr>\n",
       "      <th>9</th>\n",
       "      <td>75</td>\n",
       "      <td>96</td>\n",
       "      <td>77</td>\n",
       "      <td>79</td>\n",
       "      <td>43</td>\n",
       "    </tr>\n",
       "  </tbody>\n",
       "</table>\n",
       "</div>"
      ],
      "text/plain": [
       "    1   0   4   3   2\n",
       "0  21  53  95  55  34\n",
       "1  71  21  16  52  26\n",
       "2  42  12  98  39  31\n",
       "3  77  55  79  77  66\n",
       "4  19  83  37  34  64\n",
       "5  54  92  79  62  43\n",
       "6  87  93  77  69  87\n",
       "7  41  60  83  24  38\n",
       "8  49  44  25  17  98\n",
       "9  75  96  77  79  43"
      ]
     },
     "execution_count": 3,
     "metadata": {},
     "output_type": "execute_result"
    }
   ],
   "source": [
    "data = read_data(\"JSSP-problems/la01.xlsx\")\n",
    "data"
   ]
  },
  {
   "cell_type": "markdown",
   "metadata": {},
   "source": [
    "## Plot Functions"
   ]
  },
  {
   "cell_type": "code",
   "execution_count": 4,
   "metadata": {},
   "outputs": [],
   "source": [
    "def plot_evolution(minimum_fitness_per_generation):\n",
    "    generations = list(range(len(minimum_fitness_per_generation)))\n",
    "    plt.figure(figsize=(10, 6))\n",
    "    plt.plot(generations, minimum_fitness_per_generation, marker='o', label='Minimum Makespan')\n",
    "    plt.title('Evolution of Minimum Makespan Over Generations')\n",
    "    plt.xlabel('Generation')\n",
    "    plt.ylabel('Minimum Makespan (Fitness)')\n",
    "    plt.grid()\n",
    "    plt.legend()\n",
    "    plt.show()\n"
   ]
  },
  {
   "cell_type": "code",
   "execution_count": 5,
   "metadata": {},
   "outputs": [],
   "source": [
    "def plot_solution(chromosome, data):\n",
    "    job_end_time = [0] * data.shape[0]  # End time for each job\n",
    "    machine_end_time = [0] * data.shape[1]  # End time for each machine\n",
    "    task_schedule = []  # To store the schedule for plotting\n",
    "    num_machines = data.shape[1]\n",
    "    num_jobs = data.shape[0]\n",
    "\n",
    "    # Process the chromosome\n",
    "    for job, machine in chromosome:\n",
    "        start_time = max(job_end_time[job], machine_end_time[machine])\n",
    "        end_time = start_time + data[machine][job]\n",
    "        task_schedule.append((job, machine, start_time, end_time))  # Store the task details\n",
    "        job_end_time[job] = end_time  # Update job end time\n",
    "        machine_end_time[machine] = end_time  # Update machine end time\n",
    "\n",
    "    fig, ax = plt.subplots(figsize=(10, 8))\n",
    "    machine_colors = plt.cm.tab20.colors\n",
    "\n",
    "    for job, machine, start_time, end_time in task_schedule:\n",
    "        ax.barh(machine, end_time - start_time, left=start_time, color=machine_colors[job % 20])\n",
    " \n",
    "    ax.set_yticks(range(num_machines))\n",
    "    ax.set_yticklabels([f\"M{m}\" for m in range(num_machines)])\n",
    "    ax.set_xlabel(\"Time\")\n",
    "    ax.set_ylabel(\"Machine\")\n",
    "    ax.set_title(\"Job-Shop Scheduling Solution\")\n",
    "    ax.invert_yaxis()\n",
    "    plt.grid(axis=\"x\", linestyle=\"--\", alpha=0.7)\n",
    "\n",
    "    # Legend\n",
    "    legend_patches = [\n",
    "        mpatches.Patch(color=machine_colors[job % 20], label=f\"Job {job}\")\n",
    "        for job in range(len(data))\n",
    "    ]\n",
    "    ax.legend(handles=legend_patches, title=\"Jobs\", bbox_to_anchor=(1.05, 1), loc=\"upper left\")\n",
    "\n",
    "    plt.tight_layout()\n",
    "    plt.show()\n"
   ]
  },
  {
   "cell_type": "markdown",
   "metadata": {},
   "source": [
    "## Generate Initial Population"
   ]
  },
  {
   "cell_type": "code",
   "execution_count": 6,
   "metadata": {},
   "outputs": [],
   "source": [
    "def generate_inital_population(data, population_size):\n",
    "    jobs = data.shape[0]\n",
    "    machines = data.shape[1]\n",
    "    population = []\n",
    "    for _ in range(population_size):\n",
    "        chromosome = []\n",
    "        for job in range(jobs):\n",
    "            for machine in range(machines):\n",
    "                chromosome.append((job, machine))\n",
    "        random.shuffle(chromosome)\n",
    "        population.append(chromosome)\n",
    "    return population\n"
   ]
  },
  {
   "cell_type": "markdown",
   "metadata": {},
   "source": [
    "## Fitness"
   ]
  },
  {
   "cell_type": "code",
   "execution_count": 7,
   "metadata": {},
   "outputs": [],
   "source": [
    "def fitness(chromosome, data):\n",
    "    job_end_time = [0] * data.shape[0]  # End time of each job\n",
    "    machine_end_time = [0] * data.shape[1]  # End time of each machine\n",
    "    \n",
    "    for task in chromosome:\n",
    "        job, machine = map(int, task)\n",
    "        start_time = max(job_end_time[job], machine_end_time[machine]) # Start time of the task\n",
    "        job_end_time[job] = start_time + data[machine][job] # Update end time of job\n",
    "        machine_end_time[machine] = start_time + data[machine][job] # Update end time of machine\n",
    "    \n",
    "    return max(machine_end_time)  # Makespan"
   ]
  },
  {
   "cell_type": "markdown",
   "metadata": {},
   "source": [
    "## Selection Functions"
   ]
  },
  {
   "cell_type": "markdown",
   "metadata": {},
   "source": [
    "### Tournament Selection"
   ]
  },
  {
   "cell_type": "code",
   "execution_count": 8,
   "metadata": {},
   "outputs": [],
   "source": [
    "def tournament_selection(population, fitness_values, tournament_size): # Tournament selection\n",
    "    selected = set()\n",
    "    \n",
    "    while len(selected) < 2:  # Select 2 parents\n",
    "        tournament = random.sample(list(enumerate(fitness_values)), tournament_size)\n",
    "        winner = min(tournament, key=lambda x: x[1])[0] # Select the chromosome with the lowest fitness value\n",
    "        selected.add(winner)\n",
    "\n",
    "    selected = list(selected)\n",
    "    parent1 = population[selected[0]]\n",
    "    parent2 = population[selected[1]]\n",
    "\n",
    "    # Ensure that parent1 and parent2 are not the same\n",
    "    while parent1 == parent2:\n",
    "        tournament = random.sample(list(enumerate(fitness_values)), tournament_size)\n",
    "        winner = min(tournament, key=lambda x: x[1])[0]\n",
    "        parent2 = population[winner]\n",
    "        \n",
    "    return parent1, parent2"
   ]
  },
  {
   "cell_type": "markdown",
   "metadata": {},
   "source": [
    "### Roulette Selection"
   ]
  },
  {
   "cell_type": "code",
   "execution_count": 9,
   "metadata": {},
   "outputs": [],
   "source": [
    "def roulette_selection(population, fitness_values, tournament_size=None): # Roulette selection\n",
    "    selected = set()\n",
    "    \n",
    "    # Calculate the total fitness\n",
    "    total_fitness = sum(1.0 / (f + 1e-6) for f in fitness_values)  # Avoid division by zero\n",
    "\n",
    "    # Calculate probabilities for each chromosome\n",
    "    probabilities = [(1.0 / (f + 1e-6)) / total_fitness for f in fitness_values]\n",
    "\n",
    "    # Select two parents\n",
    "    parent1 = random.choices(population, weights=probabilities, k=1)[0]\n",
    "    parent2 = random.choices(population, weights=probabilities, k=1)[0]\n",
    "\n",
    "    # Ensure parent1 and parent2 are different\n",
    "    while parent1 == parent2:\n",
    "        parent2 = random.choices(population, weights=probabilities, k=1)[0]\n",
    "\n",
    "    return parent1, parent2"
   ]
  },
  {
   "cell_type": "markdown",
   "metadata": {},
   "source": [
    "## Crossover Functions"
   ]
  },
  {
   "cell_type": "markdown",
   "metadata": {},
   "source": [
    "### Uniform Crossover"
   ]
  },
  {
   "cell_type": "code",
   "execution_count": 10,
   "metadata": {},
   "outputs": [],
   "source": [
    "def uniform_crossover(parent1, parent2, probability): # Uniform crossover\n",
    "    size = len(parent1)\n",
    "    child1, child2 = [], []\n",
    "\n",
    "    # Uniform crossover\n",
    "    for i in range(size):\n",
    "        if random.random() < probability:\n",
    "            child1.append(parent1[i])\n",
    "            child2.append(parent2[i])\n",
    "        else:\n",
    "            child1.append(parent2[i])\n",
    "            child2.append(parent1[i])\n",
    "\n",
    "    # Repair duplicated genes in children\n",
    "    def repair(child, parent):\n",
    "        used_genes = set(child)\n",
    "        missing_genes = [gene for gene in parent if gene not in used_genes]\n",
    "        for i in range(size):\n",
    "            if child.count(child[i]) > 1:  # Check if the gene is duplicated\n",
    "                if missing_genes:\n",
    "                    child[i] = missing_genes.pop(0)  # Substitute duplicated gene with a missing gene\n",
    "        return child\n",
    "\n",
    "    child1 = repair(child1, parent1)\n",
    "    child2 = repair(child2, parent2)\n",
    "\n",
    "    return child1, child2"
   ]
  },
  {
   "cell_type": "markdown",
   "metadata": {},
   "source": [
    "### One-Point Crossover"
   ]
  },
  {
   "cell_type": "code",
   "execution_count": 11,
   "metadata": {},
   "outputs": [],
   "source": [
    "def one_point_crossover(parent1, parent2, probability=None): # One-Point crossover\n",
    "    size = len(parent1)\n",
    "    crossover_point = random.randint(1, size - 1)  # Select crossover point\n",
    "\n",
    "    # Perform one-point crossover\n",
    "    child1 = parent1[:crossover_point] + parent2[crossover_point:]\n",
    "    child2 = parent2[:crossover_point] + parent1[crossover_point:]\n",
    "\n",
    "    # Repair duplicated genes in children\n",
    "    def repair(child, parent):\n",
    "        used_genes = set(child)\n",
    "        missing_genes = [gene for gene in parent if gene not in used_genes]\n",
    "        for i in range(size):\n",
    "            while child.count(child[i]) > 1:  # Check if the gene is duplicated\n",
    "                if missing_genes:\n",
    "                    child[i] = missing_genes.pop(0)  # Replace duplicated gene with a missing one\n",
    "        return child\n",
    "\n",
    "    # Repair duplicates in children\n",
    "    child1 = repair(child1, parent1)\n",
    "    child2 = repair(child2, parent2)\n",
    "\n",
    "    return child1, child2"
   ]
  },
  {
   "cell_type": "markdown",
   "metadata": {},
   "source": [
    "## Mutation Functions"
   ]
  },
  {
   "cell_type": "markdown",
   "metadata": {},
   "source": [
    "### Independent Gene Mutation"
   ]
  },
  {
   "cell_type": "code",
   "execution_count": 12,
   "metadata": {},
   "outputs": [],
   "source": [
    "def independent_gene_mutation(chromosome, mutation_probability): \n",
    "    size = len(chromosome)\n",
    "    original_genes = set(chromosome)\n",
    "    mutated_genes = set()\n",
    "    new_chromosome = []\n",
    "\n",
    "    for i in range(size):\n",
    "        if random.random() < mutation_probability:\n",
    "            job, machine = chromosome[i]\n",
    "            mutated_gene = (machine, job)  # Swap job and machine\n",
    "            mutated_genes.add(mutated_gene)\n",
    "    \n",
    "    for gene in mutated_genes:\n",
    "        new_chromosome.append(gene)\n",
    "        missing_genes = [gene for gene in original_genes if gene not in mutated_genes]\n",
    "        new_chromosome.extend(missing_genes)\n",
    "            \n",
    "    return chromosome"
   ]
  },
  {
   "cell_type": "markdown",
   "metadata": {},
   "source": [
    "### One Mutation per Chromosome"
   ]
  },
  {
   "cell_type": "code",
   "execution_count": 13,
   "metadata": {},
   "outputs": [],
   "source": [
    "def one_mutation(chromosome, mutation_probability=None): \n",
    "    original_genes = set(chromosome)\n",
    "    new_chromosome = []\n",
    "\n",
    "    gene1, gene2 = random.sample(chromosome, 2)  # Select two genes to swap\n",
    "    new_chromosome = chromosome.copy()\n",
    "    index1 = new_chromosome.index(gene1)\n",
    "    index2 = new_chromosome.index(gene2)\n",
    "    new_chromosome[index1] = gene2\n",
    "    new_chromosome[index2] = gene1\n",
    "            \n",
    "    return chromosome"
   ]
  },
  {
   "cell_type": "markdown",
   "metadata": {},
   "source": [
    "## Elitism"
   ]
  },
  {
   "cell_type": "code",
   "execution_count": 14,
   "metadata": {},
   "outputs": [],
   "source": [
    "def elitism(population, fitness_values):\n",
    "    elite = min(enumerate(fitness_values), key=lambda x: x[1])[0]  # Select the chromosome with the lowest fitness value\n",
    "    return population[elite]"
   ]
  },
  {
   "cell_type": "markdown",
   "metadata": {},
   "source": [
    "## Genetic Algorithm"
   ]
  },
  {
   "cell_type": "code",
   "execution_count": 15,
   "metadata": {},
   "outputs": [],
   "source": [
    "def gen_algorithm(data, params):\n",
    "    population_size = params[\"population_size\"]\n",
    "    mutation_rate = params[\"mutation_rate\"]\n",
    "    crossover_rate = params[\"crossover_rate\"]\n",
    "    max_generations = params[\"max_generations\"]\n",
    "    tournament_size = params[\"tournament_size\"]\n",
    "    crossover_function = params[\"crossover_function\"]\n",
    "    mutation_function = params[\"mutation_function\"]\n",
    "    selection_function = params[\"selection_function\"]\n",
    "\n",
    "    min_makespan_generation = []\n",
    "    population = generate_inital_population(data, population_size)\n",
    "    fitness_values = [fitness(chromosome, data) for chromosome in population]\n",
    "    for generation in range(max_generations):\n",
    "        new_population = []\n",
    "        for _ in range(population_size):\n",
    "            # Selection\n",
    "            parent1, parent2 = selection_function(population, fitness_values, tournament_size)\n",
    "            # Crossover\n",
    "            child1, child2 = crossover_function(parent1, parent2, crossover_rate)\n",
    "            # Mutation\n",
    "            child1 = mutation_function(child1, mutation_rate)\n",
    "            child2 = mutation_function(child2, mutation_rate)\n",
    "            # add children to new population\n",
    "            new_population.append(child1)\n",
    "\n",
    "        # select best chromosome from previous generation (elitism)\n",
    "        new_population.append(elitism(population, fitness_values))\n",
    "        population = new_population \n",
    "        # calculate fitness values for new population\n",
    "        fitness_values = [fitness(chromosome, data) for chromosome in population]\n",
    "        min_makespan = min(fitness_values)\n",
    "        min_makespan_generation.append(min_makespan)\n",
    "        \n",
    "        # Check for stationary state\n",
    "        if len(min_makespan_generation) >= 100:\n",
    "            last_generations_fitness = min_makespan_generation[-100:]\n",
    "            all_equal = all(x == last_generations_fitness[0] for x in last_generations_fitness)\n",
    "            if all_equal:\n",
    "                break\n",
    "    # Select the chromosome with the lowest fitness value\n",
    "    best_chromosome = min(enumerate(fitness_values), key=lambda x: x[1])[0]\n",
    "    return population[best_chromosome], fitness_values[best_chromosome], min_makespan_generation\n",
    "    "
   ]
  },
  {
   "cell_type": "markdown",
   "metadata": {},
   "source": [
    "## Algoritm Parameters"
   ]
  },
  {
   "cell_type": "code",
   "execution_count": 16,
   "metadata": {},
   "outputs": [
    {
     "name": "stdout",
     "output_type": "stream",
     "text": [
      "Population Size: 100 - Tournament Size: 2\n"
     ]
    }
   ],
   "source": [
    "jobs, machines = data.shape\n",
    "t_size = jobs // 4\n",
    "population_size = jobs * machines * 2\n",
    "print(f\"Population Size: {population_size} - Tournament Size: {t_size}\")\n",
    "\n",
    "params = {\"population_size\": population_size, \n",
    "          \"mutation_rate\": 0.1, \n",
    "          \"crossover_rate\": 0.9,\n",
    "          \"max_generations\": 1000, \n",
    "          \"tournament_size\": t_size, \n",
    "          \"crossover_function\": uniform_crossover,\n",
    "          \"selection_function\": tournament_selection,\n",
    "          \"mutation_function\": independent_gene_mutation}"
   ]
  },
  {
   "cell_type": "code",
   "execution_count": 17,
   "metadata": {},
   "outputs": [
    {
     "name": "stdout",
     "output_type": "stream",
     "text": [
      "Best solution: [(8, 4), (0, 1), (5, 0), (4, 1), (4, 3), (3, 4), (1, 3), (6, 2), (3, 1), (4, 4), (5, 4), (2, 0), (9, 0), (7, 2), (3, 2), (5, 2), (6, 1), (4, 0), (9, 3), (0, 4), (1, 4), (7, 3), (4, 2), (6, 4), (3, 0), (1, 2), (8, 3), (2, 3), (9, 1), (7, 1), (9, 2), (1, 0), (6, 0), (8, 1), (2, 4), (0, 3), (7, 0), (5, 3), (5, 1), (6, 3), (0, 2), (1, 1), (8, 2), (9, 4), (7, 4), (2, 2), (3, 3), (0, 0), (8, 0), (2, 1)]\n",
      "Fitness: 666\n"
     ]
    }
   ],
   "source": [
    "best_solution, fitness, min_makespan_generation = gen_algorithm(data, params)\n",
    "print(\"Best solution:\", best_solution)\n",
    "print(\"Fitness:\", fitness)"
   ]
  },
  {
   "cell_type": "code",
   "execution_count": 18,
   "metadata": {},
   "outputs": [
    {
     "data": {
      "image/png": "[encoded data removed]",
      "text/plain": [
       "<Figure size 1000x600 with 1 Axes>"
      ]
     },
     "metadata": {},
     "output_type": "display_data"
    },
    {
     "data": {
      "image/png": "[encoded data removed]",
      "text/plain": [
       "<Figure size 1000x800 with 1 Axes>"
      ]
     },
     "metadata": {},
     "output_type": "display_data"
    }
   ],
   "source": [
    "plot_evolution(min_makespan_generation)\n",
    "plot_solution(best_solution, data)"
   ]
  }
 ],
 "metadata": {
  "kernelspec": {
   "display_name": "Python 3",
   "language": "python",
   "name": "python3"
  },
  "language_info": {
   "codemirror_mode": {
    "name": "ipython",
    "version": 3
   },
   "file_extension": ".py",
   "mimetype": "text/x-python",
   "name": "python",
   "nbconvert_exporter": "python",
   "pygments_lexer": "ipython3",
   "version": "3.12.6"
  }
 },
 "nbformat": 4,
 "nbformat_minor": 2
}
