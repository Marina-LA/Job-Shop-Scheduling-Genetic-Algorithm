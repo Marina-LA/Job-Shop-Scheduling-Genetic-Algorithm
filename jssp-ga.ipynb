{
 "cells": [
  {
   "cell_type": "markdown",
   "metadata": {},
   "source": [
    "# JOB-SHOP PROBLEM WITH GENETIC ALGORITHM "
   ]
  },
  {
   "cell_type": "code",
   "execution_count": 1,
   "metadata": {},
   "outputs": [],
   "source": [
    "import pandas as pd\n",
    "import random\n",
    "import matplotlib.pyplot as plt\n",
    "import matplotlib.patches as mpatches"
   ]
  },
  {
   "cell_type": "code",
   "execution_count": 2,
   "metadata": {},
   "outputs": [],
   "source": [
    "def read_data(file):\n",
    "    df = pd.read_excel(file, header=None)\n",
    "    matrix = []\n",
    "\n",
    "    # Iterate over rows to process job data\n",
    "    for job in df.itertuples(index=False):\n",
    "        # Convert the row into pairs of (machine, time)\n",
    "        row_data = list(job)\n",
    "        job_data = {}\n",
    "        for i in range(0, len(row_data), 2):\n",
    "            machine = int(row_data[i])\n",
    "            time = int(row_data[i+1])\n",
    "            job_data[machine] = time\n",
    "        matrix.append(job_data)\n",
    "\n",
    "    result_df = pd.DataFrame(matrix).fillna(0).astype(int)\n",
    "    return result_df"
   ]
  },
  {
   "cell_type": "code",
   "execution_count": 3,
   "metadata": {},
   "outputs": [
    {
     "data": {
      "text/html": [
       "<div>\n",
       "<style scoped>\n",
       "    .dataframe tbody tr th:only-of-type {\n",
       "        vertical-align: middle;\n",
       "    }\n",
       "\n",
       "    .dataframe tbody tr th {\n",
       "        vertical-align: top;\n",
       "    }\n",
       "\n",
       "    .dataframe thead th {\n",
       "        text-align: right;\n",
       "    }\n",
       "</style>\n",
       "<table border=\"1\" class=\"dataframe\">\n",
       "  <thead>\n",
       "    <tr style=\"text-align: right;\">\n",
       "      <th></th>\n",
       "      <th>1</th>\n",
       "      <th>0</th>\n",
       "      <th>2</th>\n",
       "    </tr>\n",
       "  </thead>\n",
       "  <tbody>\n",
       "    <tr>\n",
       "      <th>0</th>\n",
       "      <td>2</td>\n",
       "      <td>3</td>\n",
       "      <td>2</td>\n",
       "    </tr>\n",
       "    <tr>\n",
       "      <th>1</th>\n",
       "      <td>4</td>\n",
       "      <td>2</td>\n",
       "      <td>1</td>\n",
       "    </tr>\n",
       "    <tr>\n",
       "      <th>2</th>\n",
       "      <td>4</td>\n",
       "      <td>0</td>\n",
       "      <td>3</td>\n",
       "    </tr>\n",
       "  </tbody>\n",
       "</table>\n",
       "</div>"
      ],
      "text/plain": [
       "   1  0  2\n",
       "0  2  3  2\n",
       "1  4  2  1\n",
       "2  4  0  3"
      ]
     },
     "execution_count": 3,
     "metadata": {},
     "output_type": "execute_result"
    }
   ],
   "source": [
    "data = read_data(\"JSSP-problems/basic-problem.xlsx\")\n",
    "data"
   ]
  },
  {
   "cell_type": "code",
   "execution_count": 4,
   "metadata": {},
   "outputs": [],
   "source": [
    "jobs = data.shape[0]\n",
    "t_size = jobs // 2\n",
    "population_size = jobs * 2\n",
    "params = {\"population_size\": population_size, \n",
    "          \"mutation_rate\": 0.1, \n",
    "          \"crossover_rate\": 0.5, \n",
    "          \"max_generations\": 25, \n",
    "          \"tournament_size\": t_size}"
   ]
  },
  {
   "cell_type": "code",
   "execution_count": 5,
   "metadata": {},
   "outputs": [],
   "source": [
    "def generate_inital_population(data, population_size):\n",
    "    jobs = data.shape[0]\n",
    "    machines = data.shape[1]\n",
    "    population = []\n",
    "    for _ in range(population_size):\n",
    "        chromosome = []\n",
    "        for job in range(jobs):\n",
    "            for machine in range(machines):\n",
    "                chromosome.append((job, machine))\n",
    "        random.shuffle(chromosome)\n",
    "        population.append(chromosome)\n",
    "    return population\n"
   ]
  },
  {
   "cell_type": "code",
   "execution_count": 6,
   "metadata": {},
   "outputs": [],
   "source": [
    "def fitness(chromosome, data):\n",
    "    job_end_time = [0] * data.shape[0]  # End time of each job\n",
    "    machine_end_time = [0] * data.shape[1]  # End time of each machine\n",
    "    \n",
    "    for task in chromosome:\n",
    "        job, machine = map(int, task)\n",
    "        start_time = max(job_end_time[job], machine_end_time[machine]) # Start time of the task\n",
    "        job_end_time[job] = start_time + data[machine][job] # Update end time of job\n",
    "        machine_end_time[machine] = start_time + data[machine][job] # Update end time of machine\n",
    "    \n",
    "    return max(machine_end_time)  # Makespan"
   ]
  },
  {
   "cell_type": "code",
   "execution_count": 7,
   "metadata": {},
   "outputs": [],
   "source": [
    "def selection_1(population, fitness_values, tournament_size): # Tournament selection\n",
    "    selected = set()\n",
    "    \n",
    "    while len(selected) < 2:  # Select 2 parents\n",
    "        tournament = random.sample(list(enumerate(fitness_values)), tournament_size)\n",
    "        winner = min(tournament, key=lambda x: x[1])[0] # Select the chromosome with the lowest fitness value\n",
    "        selected.add(winner)\n",
    "\n",
    "    selected = list(selected)\n",
    "    parent1 = population[selected[0]]\n",
    "    parent2 = population[selected[1]]\n",
    "    return parent1, parent2"
   ]
  },
  {
   "cell_type": "code",
   "execution_count": 8,
   "metadata": {},
   "outputs": [],
   "source": [
    "def selection_2(population, fitness_values): # Roulette selection\n",
    "    selected = set()\n",
    "    \n",
    "    # Calculate the total fitness\n",
    "    total_fitness = sum(1.0 / (f + 1e-6) for f in fitness_values)  # Avoid division by zero\n",
    "\n",
    "    # Calculate probabilities for each chromosome\n",
    "    probabilities = [(1.0 / (f + 1e-6)) / total_fitness for f in fitness_values]\n",
    "\n",
    "    # Select two parents\n",
    "    parent1 = random.choices(population, weights=probabilities, k=1)[0]\n",
    "    parent2 = random.choices(population, weights=probabilities, k=1)[0]\n",
    "\n",
    "    # Ensure parent1 and parent2 are different\n",
    "    while parent1 == parent2:\n",
    "        parent2 = random.choices(population, weights=probabilities, k=1)[0]\n",
    "\n",
    "    return parent1, parent2"
   ]
  },
  {
   "cell_type": "code",
   "execution_count": 9,
   "metadata": {},
   "outputs": [],
   "source": [
    "def crossover_1(parent1, parent2, probability): # Uniform crossover\n",
    "    size = len(parent1)\n",
    "    child1, child2 = [], []\n",
    "\n",
    "    # Uniform crossover\n",
    "    for i in range(size):\n",
    "        if random.random() < probability:\n",
    "            child1.append(parent1[i])\n",
    "            child2.append(parent2[i])\n",
    "        else:\n",
    "            child1.append(parent2[i])\n",
    "            child2.append(parent1[i])\n",
    "\n",
    "    # Repair duplicated genes in children\n",
    "    def repair(child, parent):\n",
    "        used_genes = set(child)\n",
    "        missing_genes = [gene for gene in parent if gene not in used_genes]\n",
    "        for i in range(size):\n",
    "            if child.count(child[i]) > 1:  # Check if the gene is duplicated\n",
    "                if missing_genes:\n",
    "                    child[i] = missing_genes.pop(0)  # Substitute duplicated gene with a missing gene\n",
    "        return child\n",
    "\n",
    "    child1 = repair(child1, parent1)\n",
    "    child2 = repair(child2, parent2)\n",
    "\n",
    "    return child1, child2"
   ]
  },
  {
   "cell_type": "code",
   "execution_count": 10,
   "metadata": {},
   "outputs": [],
   "source": [
    "def crossover_2(parent1, parent2): # One-Point crossover\n",
    "    size = len(parent1)\n",
    "    crossover_point = random.randint(1, size - 1)  # Select crossover point\n",
    "\n",
    "    # Perform one-point crossover\n",
    "    child1 = parent1[:crossover_point] + parent2[crossover_point:]\n",
    "    child2 = parent2[:crossover_point] + parent1[crossover_point:]\n",
    "\n",
    "    # Repair function to handle duplicate genes\n",
    "    def repair(child, parent):\n",
    "        used_genes = set(child)\n",
    "        missing_genes = [gene for gene in parent if gene not in used_genes]\n",
    "        for i in range(size):\n",
    "            while child.count(child[i]) > 1:  # Check if the gene is duplicated\n",
    "                if missing_genes:\n",
    "                    child[i] = missing_genes.pop(0)  # Replace duplicated gene with a missing one\n",
    "        return child\n",
    "\n",
    "    # Repair duplicates in children\n",
    "    child1 = repair(child1, parent1)\n",
    "    child2 = repair(child2, parent2)\n",
    "\n",
    "    return child1, child2"
   ]
  },
  {
   "cell_type": "code",
   "execution_count": 11,
   "metadata": {},
   "outputs": [],
   "source": [
    "def mutation_1(chromosome, mutation_probability): \n",
    "    size = len(chromosome)\n",
    "    original_genes = set(chromosome)\n",
    "    mutated_genes = set()\n",
    "    new_chromosome = []\n",
    "\n",
    "    for i in range(size):\n",
    "        if random.random() < mutation_probability:\n",
    "            job, machine = chromosome[i]\n",
    "            mutated_gene = (machine, job)  # Swap job and machine\n",
    "            mutated_genes.add(mutated_gene)\n",
    "    \n",
    "    for gene in mutated_genes:\n",
    "        new_chromosome.append(gene)\n",
    "        missing_genes = [gene for gene in original_genes if gene not in mutated_genes]\n",
    "        new_chromosome.extend(missing_genes)\n",
    "            \n",
    "    return chromosome"
   ]
  },
  {
   "cell_type": "code",
   "execution_count": 12,
   "metadata": {},
   "outputs": [],
   "source": [
    "def mutation_2(chromosome): \n",
    "    original_genes = set(chromosome)\n",
    "    new_chromosome = []\n",
    "\n",
    "    gene1, gene2 = random.sample(chromosome, 2)  # Select two genes to swap\n",
    "    new_chromosome = chromosome.copy()\n",
    "    index1 = new_chromosome.index(gene1)\n",
    "    index2 = new_chromosome.index(gene2)\n",
    "    new_chromosome[index1] = gene2\n",
    "    new_chromosome[index2] = gene1\n",
    "            \n",
    "    return chromosome"
   ]
  },
  {
   "cell_type": "code",
   "execution_count": 13,
   "metadata": {},
   "outputs": [],
   "source": [
    "def elitism(population, fitness_values):\n",
    "    elite = min(enumerate(fitness_values), key=lambda x: x[1])[0]  # Select the chromosome with the lowest fitness value\n",
    "    return population[elite]"
   ]
  },
  {
   "cell_type": "code",
   "execution_count": 14,
   "metadata": {},
   "outputs": [],
   "source": [
    "def plot_evolution(minimum_fitness_per_generation):\n",
    "    generations = list(range(len(minimum_fitness_per_generation)))\n",
    "    plt.figure(figsize=(10, 6))\n",
    "    plt.plot(generations, minimum_fitness_per_generation, marker='o', label='Minimum Makespan')\n",
    "    plt.title('Evolution of Minimum Makespan Over Generations')\n",
    "    plt.xlabel('Generation')\n",
    "    plt.ylabel('Minimum Makespan (Fitness)')\n",
    "    plt.grid()\n",
    "    plt.legend()\n",
    "    plt.show()\n"
   ]
  },
  {
   "cell_type": "code",
   "execution_count": 15,
   "metadata": {},
   "outputs": [],
   "source": [
    "def gen_algorithm(data, params):\n",
    "    population_size = params[\"population_size\"]\n",
    "    mutation_rate = params[\"mutation_rate\"]\n",
    "    crossover_rate = params[\"crossover_rate\"]\n",
    "    max_generations = params[\"max_generations\"]\n",
    "    tournament_size = params[\"tournament_size\"]\n",
    "\n",
    "    min_makespan_generation = []\n",
    "    population = generate_inital_population(data, population_size)\n",
    "    fitness_values = [fitness(chromosome, data) for chromosome in population]\n",
    "    for generation in range(max_generations):\n",
    "        new_population = []\n",
    "        for _ in range(population_size):\n",
    "            # Selection\n",
    "            #parent1, parent2 = selection_1(population, fitness_values, tournament_size)\n",
    "            parent1, parent2 = selection_2(population, fitness_values)\n",
    "            # Crossover\n",
    "            #child1, child2 = crossover_1(parent1, parent2, crossover_rate)\n",
    "            child1, child2 = crossover_2(parent1, parent2)\n",
    "            # Mutation\n",
    "            #child1 = mutation_1(child1, mutation_rate)\n",
    "            #child2 = mutation_1(child2, mutation_rate)\n",
    "            child1 = mutation_2(child1)\n",
    "            child2 = mutation_2(child2)\n",
    "            # add children to new population\n",
    "            new_population.append(child1)\n",
    "\n",
    "        new_population.append(elitism(population, fitness_values)) # select best chromosome from previous generation\n",
    "        population = new_population \n",
    "        fitness_values = [fitness(chromosome, data) for chromosome in population] # calculate fitness values for new population\n",
    "        min_makespan = min(fitness_values)\n",
    "        min_makespan_generation.append(min_makespan)\n",
    "    \n",
    "    best_chromosome = min(enumerate(fitness_values), key=lambda x: x[1])[0] # Select the chromosome with the lowest fitness value\n",
    "    plot_evolution(min_makespan_generation)\n",
    "    return population[best_chromosome], fitness_values[best_chromosome]\n",
    "    "
   ]
  },
  {
   "cell_type": "code",
   "execution_count": null,
   "metadata": {},
   "outputs": [],
   "source": [
    "best_solution, fitness = gen_algorithm(data, params)\n",
    "print(\"Best solution:\", best_solution)\n",
    "print(\"Fitness:\", fitness)"
   ]
  },
  {
   "cell_type": "code",
   "execution_count": 17,
   "metadata": {},
   "outputs": [],
   "source": [
    "def plot_solution(chromosome, data):\n",
    "    # Initialize variables\n",
    "    job_end_time = [0] * data.shape[0]  # End time for each job\n",
    "    machine_end_time = [0] * data.shape[1]  # End time for each machine\n",
    "    task_schedule = []  # To store the schedule for plotting\n",
    "    num_machines = data.shape[1]\n",
    "    num_jobs = data.shape[0]\n",
    "\n",
    "    # Process the chromosome\n",
    "    for job, machine in chromosome:\n",
    "        start_time = max(job_end_time[job], machine_end_time[machine])\n",
    "        end_time = start_time + data[machine][job]\n",
    "        task_schedule.append((job, machine, start_time, end_time))  # Store the task details\n",
    "        job_end_time[job] = end_time  # Update job end time\n",
    "        machine_end_time[machine] = end_time  # Update machine end time\n",
    "\n",
    "    # Plot the Gantt chart\n",
    "    fig, ax = plt.subplots(figsize=(15, 10))\n",
    "    machine_colors = plt.cm.tab20.colors\n",
    "\n",
    "    for job, machine, start_time, end_time in task_schedule:\n",
    "        ax.barh(machine, end_time - start_time, left=start_time, color=machine_colors[job % 20], edgecolor=\"black\")\n",
    "        \n",
    "        if num_jobs <= 20:\n",
    "            ax.text(\n",
    "                (start_time + end_time) / 2,\n",
    "                machine,\n",
    "                f\"J{job}\",\n",
    "                ha=\"center\",\n",
    "                va=\"center\",\n",
    "                color=\"black\",\n",
    "                fontsize=6,\n",
    "            )\n",
    "        \n",
    "\n",
    "    # Customize plot\n",
    "    ax.set_yticks(range(num_machines))\n",
    "    ax.set_yticklabels([f\"M{m}\" for m in range(num_machines)])\n",
    "    ax.set_xlabel(\"Time\")\n",
    "    ax.set_ylabel(\"Machine\")\n",
    "    ax.set_title(\"Job-Shop Scheduling Solution\")\n",
    "    ax.invert_yaxis()\n",
    "    plt.grid(axis=\"x\", linestyle=\"--\", alpha=0.7)\n",
    "\n",
    "    # Legend\n",
    "    legend_patches = [\n",
    "        mpatches.Patch(color=machine_colors[job % 20], label=f\"Job {job}\")\n",
    "        for job in range(len(data))\n",
    "    ]\n",
    "    ax.legend(handles=legend_patches, title=\"Jobs\", bbox_to_anchor=(1.05, 1), loc=\"upper left\")\n",
    "\n",
    "    plt.tight_layout()\n",
    "    plt.show()\n"
   ]
  },
  {
   "cell_type": "code",
   "execution_count": 18,
   "metadata": {},
   "outputs": [
    {
     "data": {
      "image/png": "[encoded data removed]",
      "text/plain": [
       "<Figure size 1500x1000 with 1 Axes>"
      ]
     },
     "metadata": {},
     "output_type": "display_data"
    }
   ],
   "source": [
    "plot_solution(best_solution, data)"
   ]
  },
  {
   "cell_type": "code",
   "execution_count": null,
   "metadata": {},
   "outputs": [],
   "source": []
  }
 ],
 "metadata": {
  "kernelspec": {
   "display_name": "Python 3",
   "language": "python",
   "name": "python3"
  },
  "language_info": {
   "codemirror_mode": {
    "name": "ipython",
    "version": 3
   },
   "file_extension": ".py",
   "mimetype": "text/x-python",
   "name": "python",
   "nbconvert_exporter": "python",
   "pygments_lexer": "ipython3",
   "version": "3.12.6"
  }
 },
 "nbformat": 4,
 "nbformat_minor": 2
}
