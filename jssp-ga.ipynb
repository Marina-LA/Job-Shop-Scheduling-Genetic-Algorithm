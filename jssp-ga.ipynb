{
 "cells": [
  {
   "cell_type": "code",
   "execution_count": 285,
   "metadata": {},
   "outputs": [],
   "source": [
    "import pandas as pd\n",
    "import numpy as np\n",
    "import random"
   ]
  },
  {
   "cell_type": "code",
   "execution_count": 286,
   "metadata": {},
   "outputs": [],
   "source": [
    "def read_data(file):\n",
    "    data = pd.read_excel(file, header=None)\n",
    "    return data"
   ]
  },
  {
   "cell_type": "code",
   "execution_count": 287,
   "metadata": {},
   "outputs": [
    {
     "data": {
      "text/html": [
       "<div>\n",
       "<style scoped>\n",
       "    .dataframe tbody tr th:only-of-type {\n",
       "        vertical-align: middle;\n",
       "    }\n",
       "\n",
       "    .dataframe tbody tr th {\n",
       "        vertical-align: top;\n",
       "    }\n",
       "\n",
       "    .dataframe thead th {\n",
       "        text-align: right;\n",
       "    }\n",
       "</style>\n",
       "<table border=\"1\" class=\"dataframe\">\n",
       "  <thead>\n",
       "    <tr style=\"text-align: right;\">\n",
       "      <th></th>\n",
       "      <th>0</th>\n",
       "      <th>1</th>\n",
       "      <th>2</th>\n",
       "    </tr>\n",
       "  </thead>\n",
       "  <tbody>\n",
       "    <tr>\n",
       "      <th>0</th>\n",
       "      <td>3</td>\n",
       "      <td>2</td>\n",
       "      <td>2</td>\n",
       "    </tr>\n",
       "    <tr>\n",
       "      <th>1</th>\n",
       "      <td>2</td>\n",
       "      <td>4</td>\n",
       "      <td>1</td>\n",
       "    </tr>\n",
       "    <tr>\n",
       "      <th>2</th>\n",
       "      <td>0</td>\n",
       "      <td>4</td>\n",
       "      <td>3</td>\n",
       "    </tr>\n",
       "  </tbody>\n",
       "</table>\n",
       "</div>"
      ],
      "text/plain": [
       "   0  1  2\n",
       "0  3  2  2\n",
       "1  2  4  1\n",
       "2  0  4  3"
      ]
     },
     "execution_count": 287,
     "metadata": {},
     "output_type": "execute_result"
    }
   ],
   "source": [
    "data = read_data(\"JSSP-problems/basic-problem.xlsx\")\n",
    "data"
   ]
  },
  {
   "cell_type": "markdown",
   "metadata": {},
   "source": [
    "# CHROMOSOMA\n",
    "\n",
    "Representat com una llista de tuples, on gada gen es una tupla. La primera posició de la tupla indica el job i la segona posició indica la màquina. "
   ]
  },
  {
   "cell_type": "code",
   "execution_count": 288,
   "metadata": {},
   "outputs": [],
   "source": [
    "params = {\"population_size\": 10, \n",
    "          \"mutation_rate\": 0.1, \n",
    "          \"crossover_rate\": 0.5, \n",
    "          \"max_generations\": 100}"
   ]
  },
  {
   "cell_type": "code",
   "execution_count": 289,
   "metadata": {},
   "outputs": [],
   "source": [
    "def generate_inital_population(data, population_size):\n",
    "    jobs = data.shape[0]\n",
    "    machines = data.shape[1]\n",
    "    population = []\n",
    "    for _ in range(population_size):\n",
    "        chromosome = []\n",
    "        for job in range(jobs):\n",
    "            for machine in range(machines):\n",
    "                chromosome.append((job, machine))\n",
    "        random.shuffle(chromosome)\n",
    "        population.append(chromosome)\n",
    "    return population\n"
   ]
  },
  {
   "cell_type": "code",
   "execution_count": 290,
   "metadata": {},
   "outputs": [],
   "source": [
    "def fitness(chromosome, data):\n",
    "    job_end_time = [0] * len(data)  # End time of each job\n",
    "    machine_end_time = [0] * len(data[0])  # End time of each machine\n",
    "    \n",
    "    for task in chromosome:\n",
    "        job, machine = map(int, task)\n",
    "        start_time = max(job_end_time[job], machine_end_time[machine]) # Start time of the task\n",
    "        job_end_time[job] = start_time + data[job][machine] # Update end time of job\n",
    "        machine_end_time[machine] = start_time + data[job][machine] # Update end time of machine\n",
    "    \n",
    "    return max(machine_end_time)  # Makespan"
   ]
  },
  {
   "cell_type": "code",
   "execution_count": 291,
   "metadata": {},
   "outputs": [],
   "source": [
    "def selection(population, fitness_values, tournament_size): # Tournament selection\n",
    "    selected = set()\n",
    "    \n",
    "    while len(selected) < 2:  # Select 2 parents\n",
    "        tournament = random.sample(list(enumerate(fitness_values)), tournament_size)\n",
    "        winner = min(tournament, key=lambda x: x[1])[0] # Select the chromosome with the lowest fitness value\n",
    "        selected.add(winner)\n",
    "\n",
    "    selected = list(selected)\n",
    "    parent1 = population[selected[0]]\n",
    "    parent2 = population[selected[1]]\n",
    "    return parent1, parent2"
   ]
  },
  {
   "cell_type": "code",
   "execution_count": 292,
   "metadata": {},
   "outputs": [],
   "source": [
    "def crossover(parent1, parent2, probability): # Uniform crossover\n",
    "    size = len(parent1)\n",
    "    child1, child2 = [], []\n",
    "\n",
    "    # Uniform crossover\n",
    "    for i in range(size):\n",
    "        if random.random() < probability:\n",
    "            child1.append(parent1[i])\n",
    "            child2.append(parent2[i])\n",
    "        else:\n",
    "            child1.append(parent2[i])\n",
    "            child2.append(parent1[i])\n",
    "\n",
    "    # Repair duplicated genes in children\n",
    "    def repair(child, parent):\n",
    "        used_genes = set(child)\n",
    "        missing_genes = [gene for gene in parent if gene not in used_genes]\n",
    "        for i in range(size):\n",
    "            if child.count(child[i]) > 1:  # Check if the gene is duplicated\n",
    "                child[i] = missing_genes.pop(0)  # Substitute duplicated gene with a missing gene\n",
    "        return child\n",
    "\n",
    "    child1 = repair(child1, parent1)\n",
    "    child2 = repair(child2, parent2)\n",
    "\n",
    "    return child1, child2"
   ]
  },
  {
   "cell_type": "code",
   "execution_count": 293,
   "metadata": {},
   "outputs": [],
   "source": [
    "def mutation(chromosome, mutation_probability):\n",
    "    for i in range(len(chromosome)):\n",
    "        if random.random() < mutation_probability:\n",
    "            job, machine = chromosome[i]\n",
    "            if random.random() < 0.5:\n",
    "                job = random.randint(0, max(job for job, _ in chromosome))\n",
    "            else:\n",
    "                machine = random.randint(0, max(machine for _, machine in chromosome))\n",
    "            chromosome[i] = (job, machine)\n",
    "    return chromosome"
   ]
  },
  {
   "cell_type": "code",
   "execution_count": 294,
   "metadata": {},
   "outputs": [],
   "source": [
    "def gen_algorithm(data, params):\n",
    "    population_size = params[\"population_size\"]\n",
    "    mutation_rate = params[\"mutation_rate\"]\n",
    "    crossover_rate = params[\"crossover_rate\"]\n",
    "    max_generations = params[\"max_generations\"]\n",
    "    tournament_size = 4\n",
    "\n",
    "    population = generate_inital_population(data, population_size)\n",
    "    fitness_values = [fitness(chromosome, data) for chromosome in population]\n",
    "    print(fitness_values)\n",
    "    for generation in range(max_generations):\n",
    "        new_population = []\n",
    "        for _ in range(population_size):\n",
    "            # Selection\n",
    "            parent1, parent2 = selection(population, fitness_values, tournament_size)\n",
    "            print(parent1)\n",
    "            print(parent2)\n",
    "            # Crossover\n",
    "            child1, child2 = crossover(parent1, parent2, crossover_rate)\n",
    "            # Mutation\n",
    "            print(child1)\n",
    "            print(child2)\n",
    "            break\n",
    "        break\n",
    "    "
   ]
  },
  {
   "cell_type": "code",
   "execution_count": 295,
   "metadata": {},
   "outputs": [
    {
     "name": "stdout",
     "output_type": "stream",
     "text": [
      "[18, 13, 14, 16, 14, 16, 16, 14, 12, 15]\n",
      "[(0, 2), (2, 0), (0, 1), (2, 2), (1, 1), (2, 1), (0, 0), (1, 2), (1, 0)]\n",
      "[(2, 1), (0, 0), (2, 2), (1, 2), (1, 1), (0, 2), (2, 0), (0, 1), (1, 0)]\n",
      "[(0, 2), (0, 0), (2, 2), (0, 1), (1, 1), (2, 1), (2, 0), (1, 2), (1, 0)]\n",
      "[(2, 1), (2, 0), (1, 2), (2, 2), (1, 1), (0, 2), (0, 0), (0, 1), (1, 0)]\n"
     ]
    }
   ],
   "source": [
    "gen_algorithm(data, params)"
   ]
  },
  {
   "cell_type": "code",
   "execution_count": null,
   "metadata": {},
   "outputs": [],
   "source": []
  }
 ],
 "metadata": {
  "kernelspec": {
   "display_name": "Python 3",
   "language": "python",
   "name": "python3"
  },
  "language_info": {
   "codemirror_mode": {
    "name": "ipython",
    "version": 3
   },
   "file_extension": ".py",
   "mimetype": "text/x-python",
   "name": "python",
   "nbconvert_exporter": "python",
   "pygments_lexer": "ipython3",
   "version": "3.12.6"
  }
 },
 "nbformat": 4,
 "nbformat_minor": 2
}
