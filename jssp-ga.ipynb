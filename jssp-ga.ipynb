{
 "cells": [
  {
   "cell_type": "code",
   "execution_count": 208,
   "metadata": {},
   "outputs": [],
   "source": [
    "import pandas as pd\n",
    "import numpy as np\n",
    "import random"
   ]
  },
  {
   "cell_type": "code",
   "execution_count": 209,
   "metadata": {},
   "outputs": [],
   "source": [
    "def read_data(file):\n",
    "    data = pd.read_excel(file, header=None)\n",
    "    return data"
   ]
  },
  {
   "cell_type": "code",
   "execution_count": 210,
   "metadata": {},
   "outputs": [
    {
     "data": {
      "text/html": [
       "<div>\n",
       "<style scoped>\n",
       "    .dataframe tbody tr th:only-of-type {\n",
       "        vertical-align: middle;\n",
       "    }\n",
       "\n",
       "    .dataframe tbody tr th {\n",
       "        vertical-align: top;\n",
       "    }\n",
       "\n",
       "    .dataframe thead th {\n",
       "        text-align: right;\n",
       "    }\n",
       "</style>\n",
       "<table border=\"1\" class=\"dataframe\">\n",
       "  <thead>\n",
       "    <tr style=\"text-align: right;\">\n",
       "      <th></th>\n",
       "      <th>0</th>\n",
       "      <th>1</th>\n",
       "      <th>2</th>\n",
       "    </tr>\n",
       "  </thead>\n",
       "  <tbody>\n",
       "    <tr>\n",
       "      <th>0</th>\n",
       "      <td>3</td>\n",
       "      <td>2</td>\n",
       "      <td>2</td>\n",
       "    </tr>\n",
       "    <tr>\n",
       "      <th>1</th>\n",
       "      <td>2</td>\n",
       "      <td>4</td>\n",
       "      <td>1</td>\n",
       "    </tr>\n",
       "    <tr>\n",
       "      <th>2</th>\n",
       "      <td>0</td>\n",
       "      <td>4</td>\n",
       "      <td>3</td>\n",
       "    </tr>\n",
       "  </tbody>\n",
       "</table>\n",
       "</div>"
      ],
      "text/plain": [
       "   0  1  2\n",
       "0  3  2  2\n",
       "1  2  4  1\n",
       "2  0  4  3"
      ]
     },
     "execution_count": 210,
     "metadata": {},
     "output_type": "execute_result"
    }
   ],
   "source": [
    "data = read_data(\"JSSP-problems/basic-problem.xlsx\")\n",
    "data"
   ]
  },
  {
   "cell_type": "markdown",
   "metadata": {},
   "source": [
    "# CHROMOSOMA\n",
    "\n",
    "Representat com una llista de tuples, on gada gen es una tupla. La primera posició de la tupla indica el job i la segona posició indica la màquina. "
   ]
  },
  {
   "cell_type": "code",
   "execution_count": 211,
   "metadata": {},
   "outputs": [],
   "source": [
    "params = {\"population_size\": 10, \n",
    "          \"mutation_rate\": 0.1, \n",
    "          \"crossover_rate\": 0.5, \n",
    "          \"max_generations\": 100}"
   ]
  },
  {
   "cell_type": "code",
   "execution_count": 212,
   "metadata": {},
   "outputs": [],
   "source": [
    "def generate_inital_population(data, population_size):\n",
    "    jobs = data.shape[0]\n",
    "    machines = data.shape[1]\n",
    "    population = []\n",
    "    for _ in range(population_size):\n",
    "        chromosome = []\n",
    "        for job in range(jobs):\n",
    "            for machine in range(machines):\n",
    "                chromosome.append((job, machine))\n",
    "        random.shuffle(chromosome)\n",
    "        population.append(chromosome)\n",
    "    return population\n"
   ]
  },
  {
   "cell_type": "code",
   "execution_count": 213,
   "metadata": {},
   "outputs": [],
   "source": [
    "def fitness(chromosome, data):\n",
    "    job_end_time = [0] * len(data)  # End time of each job\n",
    "    machine_end_time = [0] * len(data[0])  # End time of each machine\n",
    "    \n",
    "    for task in chromosome:\n",
    "        job, machine = map(int, task)\n",
    "        start_time = max(job_end_time[job], machine_end_time[machine]) # Start time of the task\n",
    "        job_end_time[job] = start_time + data[job][machine] # Update end time of job\n",
    "        machine_end_time[machine] = start_time + data[job][machine] # Update end time of machine\n",
    "    \n",
    "    return max(machine_end_time)  # Makespan"
   ]
  },
  {
   "cell_type": "code",
   "execution_count": 214,
   "metadata": {},
   "outputs": [],
   "source": [
    "def selection(population, fitness_values, tournament_size):\n",
    "    selected = set()\n",
    "    \n",
    "    while len(selected) < 2:  # Select 2 parents\n",
    "        tournament = random.sample(list(enumerate(fitness_values)), tournament_size)\n",
    "        winner = min(tournament, key=lambda x: x[1])[0] # Select the chromosome with the lowest fitness value\n",
    "        selected.add(winner)\n",
    "\n",
    "    parent1 = population[selected[0]]\n",
    "    parent2 = population[selected[1]]\n",
    "    return parent1, parent2"
   ]
  },
  {
   "cell_type": "code",
   "execution_count": 215,
   "metadata": {},
   "outputs": [],
   "source": [
    "def crossover(parent1, parent2, probability):\n",
    "    size = len(parent1)\n",
    "    child1, child2 = [], []\n",
    "    for i in range(size):\n",
    "        if random.random() < probability:\n",
    "            child1.append(parent1[i])\n",
    "            child2.append(parent2[i])\n",
    "        else:\n",
    "            child1.append(parent2[i])\n",
    "            child2.append(parent1[i])\n",
    "    return child1, child2"
   ]
  },
  {
   "cell_type": "code",
   "execution_count": 216,
   "metadata": {},
   "outputs": [],
   "source": [
    "def mutation(chromosome, mutation_rate):\n",
    "    pass"
   ]
  },
  {
   "cell_type": "code",
   "execution_count": 217,
   "metadata": {},
   "outputs": [],
   "source": [
    "def gen_algorithm(data, params):\n",
    "    population_size = params[\"population_size\"]\n",
    "    mutation_rate = params[\"mutation_rate\"]\n",
    "    crossover_rate = params[\"crossover_rate\"]\n",
    "    max_generations = params[\"max_generations\"]\n",
    "    tournament_size = 4\n",
    "\n",
    "    population = generate_inital_population(data, population_size)\n",
    "    fitness_values = [fitness(chromosome, data) for chromosome in population]\n",
    "    print(fitness_values)\n",
    "    for generation in range(max_generations):\n",
    "        new_population = []\n",
    "        for _ in range(population_size):\n",
    "            parent1, parent2 = selection(population, fitness_values, tournament_size)\n",
    "            child1, child2 = crossover(parent1, parent2, crossover_rate)\n",
    "            break\n",
    "        break\n",
    "    \n",
    "    return population"
   ]
  },
  {
   "cell_type": "code",
   "execution_count": 218,
   "metadata": {},
   "outputs": [
    {
     "name": "stdout",
     "output_type": "stream",
     "text": [
      "[13, 10, 12, 13, 18, 12, 12, 11, 19, 20]\n",
      "[[(2, 0), (1, 2), (2, 1), (0, 0), (0, 2), (2, 2), (0, 1), (1, 1), (1, 0)], [(2, 1), (1, 2), (0, 2), (1, 1), (2, 0), (0, 0), (0, 1), (2, 2), (1, 0)], [(1, 0), (2, 2), (0, 1), (0, 2), (2, 0), (1, 2), (1, 1), (2, 1), (0, 0)], [(2, 0), (0, 0), (1, 2), (0, 2), (2, 2), (0, 1), (1, 1), (2, 1), (1, 0)], [(2, 0), (0, 0), (0, 1), (1, 1), (2, 1), (1, 2), (2, 2), (0, 2), (1, 0)], [(0, 0), (1, 1), (0, 1), (2, 2), (2, 0), (0, 2), (2, 1), (1, 2), (1, 0)], [(1, 2), (2, 0), (0, 2), (2, 1), (0, 1), (2, 2), (1, 1), (0, 0), (1, 0)], [(2, 0), (0, 2), (1, 2), (1, 1), (2, 2), (0, 0), (0, 1), (2, 1), (1, 0)], [(2, 1), (1, 1), (2, 0), (0, 1), (0, 0), (1, 0), (0, 2), (1, 2), (2, 2)], [(1, 0), (0, 0), (2, 0), (2, 2), (0, 2), (0, 1), (1, 1), (2, 1), (1, 2)]]\n",
      "[6]\n"
     ]
    },
    {
     "ename": "IndexError",
     "evalue": "list index out of range",
     "output_type": "error",
     "traceback": [
      "\u001b[1;31m---------------------------------------------------------------------------\u001b[0m",
      "\u001b[1;31mIndexError\u001b[0m                                Traceback (most recent call last)",
      "Cell \u001b[1;32mIn[218], line 1\u001b[0m\n\u001b[1;32m----> 1\u001b[0m \u001b[43mgen_algorithm\u001b[49m\u001b[43m(\u001b[49m\u001b[43mdata\u001b[49m\u001b[43m,\u001b[49m\u001b[43m \u001b[49m\u001b[43mparams\u001b[49m\u001b[43m)\u001b[49m\n",
      "Cell \u001b[1;32mIn[217], line 14\u001b[0m, in \u001b[0;36mgen_algorithm\u001b[1;34m(data, params)\u001b[0m\n\u001b[0;32m     12\u001b[0m new_population \u001b[38;5;241m=\u001b[39m []\n\u001b[0;32m     13\u001b[0m \u001b[38;5;28;01mfor\u001b[39;00m _ \u001b[38;5;129;01min\u001b[39;00m \u001b[38;5;28mrange\u001b[39m(population_size):\n\u001b[1;32m---> 14\u001b[0m     parent1, parent2 \u001b[38;5;241m=\u001b[39m \u001b[43mselection\u001b[49m\u001b[43m(\u001b[49m\u001b[43mpopulation\u001b[49m\u001b[43m,\u001b[49m\u001b[43m \u001b[49m\u001b[43mfitness_values\u001b[49m\u001b[43m,\u001b[49m\u001b[43m \u001b[49m\u001b[43mtournament_size\u001b[49m\u001b[43m)\u001b[49m\n\u001b[0;32m     15\u001b[0m     child1, child2 \u001b[38;5;241m=\u001b[39m crossover(parent1, parent2, crossover_rate)\n\u001b[0;32m     16\u001b[0m     \u001b[38;5;28;01mbreak\u001b[39;00m\n",
      "Cell \u001b[1;32mIn[214], line 9\u001b[0m, in \u001b[0;36mselection\u001b[1;34m(population, fitness_values, tournament_size)\u001b[0m\n\u001b[0;32m      7\u001b[0m     \u001b[38;5;28mprint\u001b[39m(selected)\n\u001b[0;32m      8\u001b[0m     parent1 \u001b[38;5;241m=\u001b[39m population[selected[\u001b[38;5;241m0\u001b[39m]]\n\u001b[1;32m----> 9\u001b[0m     parent2 \u001b[38;5;241m=\u001b[39m population[\u001b[43mselected\u001b[49m\u001b[43m[\u001b[49m\u001b[38;5;241;43m1\u001b[39;49m\u001b[43m]\u001b[49m]\n\u001b[0;32m     10\u001b[0m \u001b[38;5;28;01mreturn\u001b[39;00m parent1, parent2\n",
      "\u001b[1;31mIndexError\u001b[0m: list index out of range"
     ]
    }
   ],
   "source": [
    "gen_algorithm(data, params)"
   ]
  },
  {
   "cell_type": "code",
   "execution_count": null,
   "metadata": {},
   "outputs": [],
   "source": []
  }
 ],
 "metadata": {
  "kernelspec": {
   "display_name": "Python 3",
   "language": "python",
   "name": "python3"
  },
  "language_info": {
   "codemirror_mode": {
    "name": "ipython",
    "version": 3
   },
   "file_extension": ".py",
   "mimetype": "text/x-python",
   "name": "python",
   "nbconvert_exporter": "python",
   "pygments_lexer": "ipython3",
   "version": "3.12.6"
  }
 },
 "nbformat": 4,
 "nbformat_minor": 2
}
