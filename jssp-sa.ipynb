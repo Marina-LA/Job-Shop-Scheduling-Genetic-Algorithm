{
 "cells": [
  {
   "cell_type": "markdown",
   "metadata": {},
   "source": [
    "# JOB-SHOP PROBLEM WITH SIMULATED ANNEALING"
   ]
  },
  {
   "cell_type": "code",
   "execution_count": 30,
   "metadata": {},
   "outputs": [],
   "source": [
    "import pandas as pd\n",
    "import random\n",
    "import math"
   ]
  },
  {
   "cell_type": "code",
   "execution_count": 31,
   "metadata": {},
   "outputs": [],
   "source": [
    "def read_data(file):\n",
    "    df = pd.read_excel(file, header=None)\n",
    "    matrix = []\n",
    "\n",
    "    # Iterate over rows to process job data\n",
    "    for job in df.itertuples(index=False):\n",
    "        # Convert the row into pairs of (machine, time)\n",
    "        row_data = list(job)\n",
    "        job_data = {}\n",
    "        for i in range(0, len(row_data), 2):\n",
    "            machine = int(row_data[i])\n",
    "            time = int(row_data[i+1])\n",
    "            job_data[machine] = time\n",
    "        matrix.append(job_data)\n",
    "\n",
    "    result_df = pd.DataFrame(matrix).fillna(0).astype(int)\n",
    "    return result_df"
   ]
  },
  {
   "cell_type": "code",
   "execution_count": 32,
   "metadata": {},
   "outputs": [
    {
     "data": {
      "text/html": [
       "<div>\n",
       "<style scoped>\n",
       "    .dataframe tbody tr th:only-of-type {\n",
       "        vertical-align: middle;\n",
       "    }\n",
       "\n",
       "    .dataframe tbody tr th {\n",
       "        vertical-align: top;\n",
       "    }\n",
       "\n",
       "    .dataframe thead th {\n",
       "        text-align: right;\n",
       "    }\n",
       "</style>\n",
       "<table border=\"1\" class=\"dataframe\">\n",
       "  <thead>\n",
       "    <tr style=\"text-align: right;\">\n",
       "      <th></th>\n",
       "      <th>1</th>\n",
       "      <th>0</th>\n",
       "      <th>2</th>\n",
       "    </tr>\n",
       "  </thead>\n",
       "  <tbody>\n",
       "    <tr>\n",
       "      <th>0</th>\n",
       "      <td>2</td>\n",
       "      <td>3</td>\n",
       "      <td>2</td>\n",
       "    </tr>\n",
       "    <tr>\n",
       "      <th>1</th>\n",
       "      <td>4</td>\n",
       "      <td>2</td>\n",
       "      <td>1</td>\n",
       "    </tr>\n",
       "    <tr>\n",
       "      <th>2</th>\n",
       "      <td>4</td>\n",
       "      <td>0</td>\n",
       "      <td>3</td>\n",
       "    </tr>\n",
       "  </tbody>\n",
       "</table>\n",
       "</div>"
      ],
      "text/plain": [
       "   1  0  2\n",
       "0  2  3  2\n",
       "1  4  2  1\n",
       "2  4  0  3"
      ]
     },
     "execution_count": 32,
     "metadata": {},
     "output_type": "execute_result"
    }
   ],
   "source": [
    "data = read_data(\"JSSP-problems/basic-problem.xlsx\")\n",
    "data"
   ]
  },
  {
   "cell_type": "code",
   "execution_count": 33,
   "metadata": {},
   "outputs": [],
   "source": [
    "def fitness(chromosome, data):\n",
    "    job_end_time = [0] * data.shape[0]  # End time of each job\n",
    "    machine_end_time = [0] * data.shape[1]  # End time of each machine\n",
    "    \n",
    "    for task in chromosome:\n",
    "        job, machine = map(int, task)\n",
    "        start_time = max(job_end_time[job], machine_end_time[machine]) # Start time of the task\n",
    "        job_end_time[job] = start_time + data[machine][job] # Update end time of job\n",
    "        machine_end_time[machine] = start_time + data[machine][job] # Update end time of machine\n",
    "    \n",
    "    return max(machine_end_time)  # Makespan"
   ]
  },
  {
   "cell_type": "code",
   "execution_count": 34,
   "metadata": {},
   "outputs": [],
   "source": [
    "def initial_configuration(data):\n",
    "    jobs = list(range(data.shape[0]))\n",
    "    machines = list(range(data.shape[1]))\n",
    "    chromosome = []\n",
    "    \n",
    "    for job in jobs:\n",
    "        for machine in machines:\n",
    "            chromosome.append((job, machine))\n",
    "    \n",
    "    random.shuffle(chromosome)\n",
    "    return chromosome"
   ]
  },
  {
   "cell_type": "code",
   "execution_count": 35,
   "metadata": {},
   "outputs": [
    {
     "data": {
      "text/plain": [
       "[(2, 0), (2, 1), (1, 1), (1, 0), (0, 1), (1, 2), (0, 0), (2, 2), (0, 2)]"
      ]
     },
     "execution_count": 35,
     "metadata": {},
     "output_type": "execute_result"
    }
   ],
   "source": [
    "def get_neighbours(chromosome):\n",
    "    neighbor = chromosome[:]\n",
    "    idx1, idx2 = random.sample(range(len(chromosome)), 2)\n",
    "    neighbor[idx1], neighbor[idx2] = neighbor[idx2], neighbor[idx1]\n",
    "    return neighbor"
   ]
  },
  {
   "cell_type": "code",
   "execution_count": 36,
   "metadata": {},
   "outputs": [],
   "source": [
    "def simulated_annealing(data, params):\n",
    "    initial_solution = initial_configuration(data)\n",
    "    current_solution = initial_solution\n",
    "    current_fitness = fitness(current_solution, data)\n",
    "    best_solution = current_solution\n",
    "    best_fitness = current_fitness\n",
    "\n",
    "    initial_temperature = params[\"initial_temperature\"]\n",
    "    cooling_rate = params[\"cooling_rate\"]\n",
    "    max_iterations = params[\"max_iterations\"]\n",
    "\n",
    "    temperature = initial_temperature\n",
    "    fitness_progression = [current_fitness]\n",
    "\n",
    "    for iteration in range(max_iterations):\n",
    "        # Generate a neighbor solution\n",
    "        neighbor_solution = get_neighbours(current_solution)\n",
    "        neighbor_fitness = fitness(neighbor_solution, data)\n",
    "\n",
    "        # Calculate acceptance probability\n",
    "        delta_fitness = neighbor_fitness - current_fitness\n",
    "        acceptance_probability = math.exp(-delta_fitness / temperature) if delta_fitness > 0 else 1.0\n",
    "\n",
    "        # Accept or reject the neighbor\n",
    "        if random.random() < acceptance_probability:\n",
    "            current_solution = neighbor_solution\n",
    "            current_fitness = neighbor_fitness\n",
    "\n",
    "            # Update the best solution found\n",
    "            if current_fitness < best_fitness:\n",
    "                best_solution = current_solution\n",
    "                best_fitness = current_fitness\n",
    "\n",
    "        # Cool down\n",
    "        temperature *= cooling_rate\n",
    "\n",
    "        fitness_progression.append(best_fitness)\n",
    "\n",
    "        # Stop if temperature is too low\n",
    "        if temperature < 1e-8:\n",
    "            break\n",
    "\n",
    "    return best_solution, best_fitness, fitness_progression"
   ]
  },
  {
   "cell_type": "code",
   "execution_count": 37,
   "metadata": {},
   "outputs": [],
   "source": [
    "params = {\n",
    "    \"initial_temperature\": 1000, \n",
    "    \"cooling_rate\": 0.99,         \n",
    "    \"max_iterations\": 10000    \n",
    "}"
   ]
  },
  {
   "cell_type": "code",
   "execution_count": null,
   "metadata": {},
   "outputs": [
    {
     "name": "stdout",
     "output_type": "stream",
     "text": [
      "Best solution: [(2, 1), (0, 0), (2, 0), (1, 2), (1, 0), (0, 1), (2, 2), (1, 1), (0, 2)]\n"
     ]
    }
   ],
   "source": [
    "best_solution, best_fitness, fitness_progression = simulated_annealing(data, params)"
   ]
  }
 ],
 "metadata": {
  "kernelspec": {
   "display_name": "Python 3",
   "language": "python",
   "name": "python3"
  },
  "language_info": {
   "codemirror_mode": {
    "name": "ipython",
    "version": 3
   },
   "file_extension": ".py",
   "mimetype": "text/x-python",
   "name": "python",
   "nbconvert_exporter": "python",
   "pygments_lexer": "ipython3",
   "version": "3.12.6"
  }
 },
 "nbformat": 4,
 "nbformat_minor": 2
}
